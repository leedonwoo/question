{
 "cells": [
  {
   "cell_type": "markdown",
   "id": "81213ca6-942f-4bb3-9e91-f87fc48b1c8e",
   "metadata": {},
   "source": [
    "# 질문1\n",
    "아래 코드를 작성해서 산수적인 접근으로, 재고 소진일 코드를 gpt와 함께 정리했습니다.(사실 다시 할라고 다 지웠는데.. 급히 질문할려고 다시 만들었습니다<br>\n",
    "사실 3_music.xls은 우리회사의 아데나 데이터를 다운받아서 못알아보게 일단 엑셀에서 고유명사를 모조리 변경을 한 건입니다. 숫자를 변경했는지까지는 기억이 안나네요... (제가 가급적 제 pc가상환경에 텐서플로어나 파이토치를 깔려고 하는 이유이기도 함)<br>\n",
    "초기 재고는 음수로 강제로 입력을 해주어야 합니다.<br>\n",
    "머신러닝으로 판매력(회사 채널별, 혹은 서점별)을 학습시켜서 재고가 양수가 되는 점을 찾으려고 했고, 어떻게 어떻게 책보고 만들었는데  (현재 다 포맷한 상태임..) 80% 부분에서 이제 막히기 시작했습니다. <br>\n",
    "<div class=\"alert alert-block\" style=\"border: 2px solid #9D5CBB;background-color:#EBDEF1;padding:5px;font-size:0.9em;\">\n",
    "모델 성능 향상 파트에서 (물론 결괏값의 형태에 맞지 않는 모델이었기에 잘못되어 있을 수도 있습니다. 다른 깃허브 레파지토리에 제가 다루려했던 데이터도 넣어보았습니다) 그래서 최적의 하이퍼파라미터를 찾는 이유라든지, 그 값의 의미, 라이찌비엠으로 적용해서 개선한다는 의미 등등에서 손을 놓은 상태입니다. <br>\n",
    "제가 금주 책 338~400페이지 부분을 보여드리면서 질문을 마치겠습니다. \n",
    "</div>\n",
    "\n",
    "요다음에 아이리포 강의를 조금조금씩 보다말다 하는 수준이었습니다. \n",
    "엄두가 안나서 정확히 한다고는 못하겠는데, 파이토치로 맞춤법 검사기 만들어보고자 있고요... (법인책급을 두번의 칼질로 끝내는데 도움이 될만한... 원래는 중기법 원고 투하되면 바로 분석? 아직 공상과학단계입니다... 같은 걸 해보려고했습니다.. 완전하게 나오는 것은 원래도 기대하진 않고요... 틀린 데나 수정한(할) 데 이렇게 2꼭지를 보는게 목표입니다)"
   ]
  },
  {
   "cell_type": "markdown",
   "id": "4775315b-9ff3-4b7c-98f5-d30179c2e19c",
   "metadata": {},
   "source": [
    "(참고로) 현재 예전에 출판사업팀에서 2주간 작업해서 인세기안하던 일을, 2시간이면 충분히 하게 파이썬으로 수정해서 한 2년을 잘 지낸 것 같습니다. \n",
    "저는 거기서 재미를 느끼기 시작했습니다. 성격적으로 누군가가 엑셀 10장 이상인데 뽑거나 수작업 하면 저는 한심하게 쳐다보는 유형이기도 하고... "
   ]
  },
  {
   "cell_type": "markdown",
   "id": "b9a61aae-f664-4376-8a0b-b0f6392d9377",
   "metadata": {},
   "source": [
    "# 질문2  (질문은 아니고 요청일수도 있을 것 같습니다)\n",
    "전무님 책 집필하시던 1편을 지금 강의하시는 것으로 ann dnn rnn..... 구글 번역의 혁명(제가 어텐션 쪽을 다 못봐서 대강만 알고 있습니다. 기존 맞춤법검사 혹은 번역과 다른 차원으로  revolution을 한 것을...어차피 한국어 등 특이한 몇가지 언어들이 기존에 해결이 안된것들 포함해서....)    이렇게 담고 책을 갈무리해주십사 합니다. (나머지 원고는 최신화를 하고, 외환부분만 매조지해주시고, 요 부분만 하면 역작이... ^^) 강의는 어차피 판다스 1주, 시각화 1주, 이평선포함해서 펑션 1주로 책과는 다르게 세팅을 해도 되기도 하고(이건 강의팀에서^^)...<br>\n",
    "\n",
    "**(1) DNN의 등장**\n",
    "<div class=\"alert alert-block\" style=\"border: 2px solid #1976D2;background-color:#E3F2FD;padding:5px;font-size:0.9em;\">\n",
    "퍼셉트론으론 현신세계는 커녕 nor도 풀수 없다(민스키 교수님) <br>\n",
    "그걸<br>\n",
    "OR&nbsp;&nbsp;&nbsp;&nbsp;&nbsp;+&nbsp;&nbsp;&nbsp;&nbsp;&nbsp;AND     = y<br>\n",
    "NAND<br>\n",
    "로 풀어냄. 레이어의 등장 ~~~~\n",
    "</div>\n",
    "\n",
    "**(0) 마무리나 초입용**\n",
    "<div class=\"alert alert-block\" style=\"border: 2px solid #9D5CBB;background-color:#EBDEF1;padding:5px;font-size:0.9em;\">\n",
    "여러분들은 이미지 빅데이터 분석전문가, 사운드 빅데이터 분석전문가, numeric 빅데이터 분석전문가(다 영어로 쓰거나...뭐라고 불러야 할지 모르겠네요... 요쪽을..), 자연어 처리 전문가 등이 될 것입니다... 두둥 \n",
    "</div>"
   ]
  },
  {
   "cell_type": "code",
   "execution_count": 7,
   "id": "574e6108-f9be-45b6-ae29-96d174ec73f1",
   "metadata": {},
   "outputs": [
    {
     "name": "stdout",
     "output_type": "stream",
     "text": [
      "Collecting xlrd\n",
      "  Using cached xlrd-2.0.1-py2.py3-none-any.whl.metadata (3.4 kB)\n",
      "Using cached xlrd-2.0.1-py2.py3-none-any.whl (96 kB)\n",
      "Installing collected packages: xlrd\n",
      "Successfully installed xlrd-2.0.1\n",
      "Note: you may need to restart the kernel to use updated packages.\n"
     ]
    }
   ],
   "source": [
    "#pip install xlrd"
   ]
  },
  {
   "cell_type": "code",
   "execution_count": 6,
   "id": "c0f4554a-8837-4747-91c5-6caff65a6f24",
   "metadata": {},
   "outputs": [
    {
     "name": "stdout",
     "output_type": "stream",
     "text": [
      "Collecting openpyxl\n",
      "  Using cached openpyxl-3.1.5-py2.py3-none-any.whl.metadata (2.5 kB)\n",
      "Collecting et-xmlfile (from openpyxl)\n",
      "  Downloading et_xmlfile-2.0.0-py3-none-any.whl.metadata (2.7 kB)\n",
      "Using cached openpyxl-3.1.5-py2.py3-none-any.whl (250 kB)\n",
      "Downloading et_xmlfile-2.0.0-py3-none-any.whl (18 kB)\n",
      "Installing collected packages: et-xmlfile, openpyxl\n",
      "Successfully installed et-xmlfile-2.0.0 openpyxl-3.1.5\n",
      "Note: you may need to restart the kernel to use updated packages.\n"
     ]
    }
   ],
   "source": [
    "#pip install openpyxl"
   ]
  },
  {
   "cell_type": "code",
   "execution_count": 7,
   "id": "cb64cb66-3a3d-4685-ad39-0c0484e74424",
   "metadata": {},
   "outputs": [
    {
     "name": "stdout",
     "output_type": "stream",
     "text": [
      "The Excel file has been saved to: future_positive_quantity_dates.xlsx\n"
     ]
    }
   ],
   "source": [
    "import pandas as pd\n",
    "\n",
    "# Load your data\n",
    "file_path = \"3_music.xls\"\n",
    "df = pd.read_excel(file_path)\n",
    "\n",
    "# Convert 'Order Date' to datetime format\n",
    "df['Order Date'] = pd.to_datetime(df['Order Date'], format='%Y%m%d')\n",
    "\n",
    "# Convert 'Quantity' to integer, handling errors by setting non-numeric values to 0\n",
    "df['Quantity'] = df['Quantity'].apply(pd.to_numeric, errors='coerce').fillna(0).astype(int)\n",
    "\n",
    "# Calculate metrics for each 'item name'\n",
    "def total_positive_sales(product_data):\n",
    "    return product_data[product_data['Quantity'] > 0]['Quantity'].sum()\n",
    "\n",
    "def total_inventory(product_data):\n",
    "    return product_data['Quantity'].sum()\n",
    "\n",
    "def transaction_dates(product_data):\n",
    "    start_date = product_data['Order Date'].min()\n",
    "    end_date = product_data['Order Date'].max()\n",
    "    days_count = (end_date - start_date).days\n",
    "    return start_date, end_date, days_count\n",
    "\n",
    "def daily_sales(product_data):\n",
    "    total_sales = product_data[product_data['Quantity'] > 0]['Quantity'].sum()\n",
    "    days_count = (product_data['Order Date'].max() - product_data['Order Date'].min()).days + 1\n",
    "    return total_sales / days_count if days_count > 0 else 0\n",
    "\n",
    "# Calculate the future date when inventory becomes positive\n",
    "def calculate_future_positive_date(inventory, daily_sales_value, end_date):\n",
    "    if daily_sales_value > 0:\n",
    "        future_positive_days = -inventory / daily_sales_value\n",
    "        # Set a limit on future days to avoid overflow (e.g., 3650 days for a 10-year limit)\n",
    "        if future_positive_days > 3650:\n",
    "            return pd.NaT\n",
    "        return end_date + pd.Timedelta(days=future_positive_days)\n",
    "    return pd.NaT\n",
    "\n",
    "# Create an empty list to hold results\n",
    "results = []\n",
    "\n",
    "# Process each item name group\n",
    "for product_name, product_data in df.groupby('item name'):\n",
    "    positive_sales = total_positive_sales(product_data)\n",
    "    inventory = total_inventory(product_data)\n",
    "    start_date, end_date, days_count = transaction_dates(product_data)\n",
    "    daily_sales_value = daily_sales(product_data)\n",
    "    future_positive_date = calculate_future_positive_date(inventory, daily_sales_value, end_date)\n",
    "    \n",
    "    results.append({\n",
    "        'Item Name': product_name,\n",
    "        'Total Positive Sales': positive_sales,\n",
    "        'Total Inventory': inventory,\n",
    "        'Transaction Start Date': start_date,\n",
    "        'Transaction End Date': end_date,\n",
    "        'Transaction Days': days_count,\n",
    "        'Daily Sales': daily_sales_value,\n",
    "        'Future Positive Quantity Date': future_positive_date\n",
    "    })\n",
    "\n",
    "# Create a DataFrame from results\n",
    "result_df = pd.DataFrame(results)\n",
    "\n",
    "# Save to Excel file\n",
    "output_file_path = \"future_positive_quantity_dates.xlsx\"\n",
    "result_df.to_excel(output_file_path, index=False)\n",
    "\n",
    "print(f\"The Excel file has been saved to: {output_file_path}\")\n"
   ]
  }
 ],
 "metadata": {
  "kernelspec": {
   "display_name": "Python 3 (ipykernel)",
   "language": "python",
   "name": "python3"
  },
  "language_info": {
   "codemirror_mode": {
    "name": "ipython",
    "version": 3
   },
   "file_extension": ".py",
   "mimetype": "text/x-python",
   "name": "python",
   "nbconvert_exporter": "python",
   "pygments_lexer": "ipython3",
   "version": "3.9.20"
  }
 },
 "nbformat": 4,
 "nbformat_minor": 5
}
